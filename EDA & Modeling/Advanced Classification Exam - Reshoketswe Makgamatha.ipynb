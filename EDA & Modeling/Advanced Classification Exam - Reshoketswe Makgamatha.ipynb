{
 "cells": [
  {
   "cell_type": "markdown",
   "id": "0165a792",
   "metadata": {},
   "source": [
    "## Kaggle Classification Competition"
   ]
  },
  {
   "cell_type": "markdown",
   "id": "60e56d0c",
   "metadata": {},
   "source": [
    "@ Explore Data Science Academy"
   ]
  },
  {
   "cell_type": "markdown",
   "id": "1b8ed8d0",
   "metadata": {},
   "source": [
    "## Table of Contents\n",
    "\n",
    "<a href=#one>1. Introduction</a>\n",
    "\n",
    "<a href=#two>2. Importing Packages</a>\n",
    "\n",
    "<a href=#three>3. Loading the data</a>\n",
    "\n",
    "<a href=#four>4. Exploratory Data Analysis (EDA)</a>\n",
    "\n",
    "<a href=#five>5. Model Building & Evaluation</a>\n",
    "\n",
    "<a href=#seven>6. Submission</a>\n",
    "\n"
   ]
  },
  {
   "cell_type": "markdown",
   "id": "dcdcd95f",
   "metadata": {},
   "source": [
    "<a id=\"one\"></a>\n",
    "## 1. Introduction\n",
    "<a class=\"anchor\" id=\"1\"></a>\n",
    "<a href=#cont>Back to Table of Contents</a>\n"
   ]
  },
  {
   "cell_type": "markdown",
   "id": "3c3d8656",
   "metadata": {},
   "source": [
    "South Africa's Constitution recognises 11 official languages: Sepedi (also known as Sesotho sa Leboa), Sesotho, Setswana, siSwati, Tshivenda, Xitsonga, Afrikaans, English, isiNdebele, isiXhosa and isiZulu.\n",
    "Language is another way of communication that human being's use. Languages exposes people to new opportunities and offers chances to travel,explore,talk to people accross the globe.\n",
    "\n",
    "They also allow us to articulate our thoughts and feelings by the way we apprehend the world. We live in exciting times where on can be able to feed machine raw text so that it can understand human lanuage, which is Natural Language Processing. \n",
    "In this We will be going through all the steps to make the machine understand South African languages then roduce a multilabel language id of the specified language. "
   ]
  },
  {
   "cell_type": "markdown",
   "id": "f47c1d92",
   "metadata": {},
   "source": [
    "<a id=\"two\"></a>\n",
    "## 2. Importing Libraries\n",
    "<a class=\"anchor\" id=\"1\"></a>\n",
    "<a href=#cont>Back to Table of Contents</a>\n"
   ]
  },
  {
   "cell_type": "code",
   "execution_count": 85,
   "id": "6c8e72e9",
   "metadata": {},
   "outputs": [],
   "source": [
    "import re\n",
    "import string\n",
    "import numpy as np \n",
    "import random\n",
    "import pandas as pd \n",
    "import matplotlib.pyplot as plt\n",
    "import seaborn as sns\n",
    "%matplotlib inline\n",
    "from plotly import graph_objs as go\n",
    "import plotly.express as px\n",
    "import plotly.figure_factory as ff\n",
    "from collections import Counter\n",
    "import advertools as adv\n",
    "import nltk\n",
    "from nltk.corpus import stopwords\n",
    "import spacy\n",
    "import random\n",
    "from spacy.util import compounding\n",
    "from spacy.util import minibatch\n",
    "\n",
    "\n",
    "from sklearn.feature_extraction.text import CountVectorizer   \n",
    "from sklearn.feature_extraction.text import TfidfVectorizer\n",
    "from sklearn.feature_extraction.text import TfidfTransformer \n",
    "from sklearn.model_selection import train_test_split, RandomizedSearchCV\n",
    "from sklearn.svm import LinearSVC\n",
    "from sklearn.pipeline import Pipeline\n",
    "from sklearn.naive_bayes import MultinomialNB\n",
    "from sklearn.neighbors import KNeighborsClassifier\n",
    "from sklearn.ensemble import RandomForestClassifier\n",
    "from sklearn.tree import DecisionTreeClassifier\n",
    "import xgboost as xgb\n",
    "from xgboost import XGBClassifier\n",
    "from sklearn.svm import SVC\n",
    "\n",
    "\n",
    "from sklearn.linear_model import LogisticRegression\n",
    "from sklearn.neighbors import KNeighborsClassifier\n",
    "from sklearn.svm import SVC\n",
    "from sklearn.tree import DecisionTreeClassifier\n",
    "from sklearn.ensemble import RandomForestClassifier\n",
    "\n",
    "# Libraries from Sklearn\n",
    "from sklearn import svm\n",
    "from sklearn.naive_bayes import MultinomialNB\n",
    "from sklearn.linear_model import LogisticRegression\n",
    "from sklearn.model_selection import train_test_split\n",
    "from sklearn.feature_extraction.text import TfidfVectorizer\n",
    "from sklearn.metrics import confusion_matrix, classification_report\n",
    "\n",
    "\n",
    "from sklearn.feature_extraction.text import CountVectorizer\n",
    "\n",
    "from sklearn.model_selection import train_test_split\n",
    "from sklearn import metrics\n",
    "\n",
    "from sklearn.linear_model import LogisticRegression\n",
    "from sklearn.neighbors import KNeighborsClassifier\n",
    "from sklearn.svm import SVC\n",
    "from sklearn.tree import DecisionTreeClassifier\n",
    "from sklearn.ensemble import RandomForestClassifier, AdaBoostClassifier\n",
    "from sklearn.ensemble import StackingRegressor\n",
    "\n",
    "import warnings\n",
    "warnings.filterwarnings(\"ignore\")"
   ]
  },
  {
   "cell_type": "markdown",
   "id": "7d743c37",
   "metadata": {},
   "source": [
    "<a id=\"three\"></a>\n",
    "## 3. Loading Data\n",
    "<a class=\"anchor\" id=\"1.1\"></a>\n",
    "<a href=#cont>Back to Table of Contents</a>\n"
   ]
  },
  {
   "cell_type": "markdown",
   "id": "271398e1",
   "metadata": {},
   "source": [
    "## Loading Data"
   ]
  },
  {
   "cell_type": "code",
   "execution_count": 2,
   "id": "ce81d59c",
   "metadata": {},
   "outputs": [],
   "source": [
    "train_data = pd.read_csv('train_set.csv')"
   ]
  },
  {
   "cell_type": "code",
   "execution_count": 3,
   "id": "cc9a25af",
   "metadata": {},
   "outputs": [],
   "source": [
    "test_data = pd.read_csv('test_set.csv')"
   ]
  },
  {
   "cell_type": "markdown",
   "id": "68819d67",
   "metadata": {},
   "source": [
    "<a id=\"four\"></a>\n",
    "## 4. Exploratory Data Analysis\n",
    "<a class=\"anchor\" id=\"1.1\"></a>\n",
    "<a href=#cont>Back to Table of Contents</a>\n"
   ]
  },
  {
   "cell_type": "code",
   "execution_count": 4,
   "id": "94517501",
   "metadata": {},
   "outputs": [
    {
     "data": {
      "text/plain": [
       "(33000, 2)"
      ]
     },
     "execution_count": 4,
     "metadata": {},
     "output_type": "execute_result"
    }
   ],
   "source": [
    "train_data.shape"
   ]
  },
  {
   "cell_type": "code",
   "execution_count": 5,
   "id": "4dcfdb70",
   "metadata": {},
   "outputs": [
    {
     "data": {
      "text/plain": [
       "(5682, 2)"
      ]
     },
     "execution_count": 5,
     "metadata": {},
     "output_type": "execute_result"
    }
   ],
   "source": [
    "test_data.shape"
   ]
  },
  {
   "cell_type": "code",
   "execution_count": 6,
   "id": "1d3cd2bf",
   "metadata": {},
   "outputs": [
    {
     "data": {
      "text/html": [
       "<div>\n",
       "<style scoped>\n",
       "    .dataframe tbody tr th:only-of-type {\n",
       "        vertical-align: middle;\n",
       "    }\n",
       "\n",
       "    .dataframe tbody tr th {\n",
       "        vertical-align: top;\n",
       "    }\n",
       "\n",
       "    .dataframe thead th {\n",
       "        text-align: right;\n",
       "    }\n",
       "</style>\n",
       "<table border=\"1\" class=\"dataframe\">\n",
       "  <thead>\n",
       "    <tr style=\"text-align: right;\">\n",
       "      <th></th>\n",
       "      <th>lang_id</th>\n",
       "      <th>text</th>\n",
       "    </tr>\n",
       "  </thead>\n",
       "  <tbody>\n",
       "    <tr>\n",
       "      <th>0</th>\n",
       "      <td>xho</td>\n",
       "      <td>umgaqo-siseko wenza amalungiselelo kumaziko ax...</td>\n",
       "    </tr>\n",
       "    <tr>\n",
       "      <th>1</th>\n",
       "      <td>xho</td>\n",
       "      <td>i-dha iya kuba nobulumko bokubeka umsebenzi na...</td>\n",
       "    </tr>\n",
       "    <tr>\n",
       "      <th>2</th>\n",
       "      <td>eng</td>\n",
       "      <td>the province of kwazulu-natal department of tr...</td>\n",
       "    </tr>\n",
       "    <tr>\n",
       "      <th>3</th>\n",
       "      <td>nso</td>\n",
       "      <td>o netefatša gore o ba file dilo ka moka tše le...</td>\n",
       "    </tr>\n",
       "    <tr>\n",
       "      <th>4</th>\n",
       "      <td>ven</td>\n",
       "      <td>khomishini ya ndinganyiso ya mbeu yo ewa maana...</td>\n",
       "    </tr>\n",
       "  </tbody>\n",
       "</table>\n",
       "</div>"
      ],
      "text/plain": [
       "  lang_id                                               text\n",
       "0     xho  umgaqo-siseko wenza amalungiselelo kumaziko ax...\n",
       "1     xho  i-dha iya kuba nobulumko bokubeka umsebenzi na...\n",
       "2     eng  the province of kwazulu-natal department of tr...\n",
       "3     nso  o netefatša gore o ba file dilo ka moka tše le...\n",
       "4     ven  khomishini ya ndinganyiso ya mbeu yo ewa maana..."
      ]
     },
     "execution_count": 6,
     "metadata": {},
     "output_type": "execute_result"
    }
   ],
   "source": [
    "train_data.head()"
   ]
  },
  {
   "cell_type": "code",
   "execution_count": 7,
   "id": "486050ca",
   "metadata": {},
   "outputs": [
    {
     "data": {
      "text/html": [
       "<div>\n",
       "<style scoped>\n",
       "    .dataframe tbody tr th:only-of-type {\n",
       "        vertical-align: middle;\n",
       "    }\n",
       "\n",
       "    .dataframe tbody tr th {\n",
       "        vertical-align: top;\n",
       "    }\n",
       "\n",
       "    .dataframe thead th {\n",
       "        text-align: right;\n",
       "    }\n",
       "</style>\n",
       "<table border=\"1\" class=\"dataframe\">\n",
       "  <thead>\n",
       "    <tr style=\"text-align: right;\">\n",
       "      <th></th>\n",
       "      <th>lang_id</th>\n",
       "      <th>text</th>\n",
       "    </tr>\n",
       "  </thead>\n",
       "  <tbody>\n",
       "    <tr>\n",
       "      <th>32995</th>\n",
       "      <td>tsn</td>\n",
       "      <td>popo ya dipolateforomo tse ke go tlisa boetele...</td>\n",
       "    </tr>\n",
       "    <tr>\n",
       "      <th>32996</th>\n",
       "      <td>sot</td>\n",
       "      <td>modise mosadi na o ntse o sa utlwe hore thaban...</td>\n",
       "    </tr>\n",
       "    <tr>\n",
       "      <th>32997</th>\n",
       "      <td>eng</td>\n",
       "      <td>closing date for the submission of completed t...</td>\n",
       "    </tr>\n",
       "    <tr>\n",
       "      <th>32998</th>\n",
       "      <td>xho</td>\n",
       "      <td>nawuphina umntu ofunyenwe enetyala phantsi kwa...</td>\n",
       "    </tr>\n",
       "    <tr>\n",
       "      <th>32999</th>\n",
       "      <td>sot</td>\n",
       "      <td>mafapha a mang le ona a lokela ho etsa ditlale...</td>\n",
       "    </tr>\n",
       "  </tbody>\n",
       "</table>\n",
       "</div>"
      ],
      "text/plain": [
       "      lang_id                                               text\n",
       "32995     tsn  popo ya dipolateforomo tse ke go tlisa boetele...\n",
       "32996     sot  modise mosadi na o ntse o sa utlwe hore thaban...\n",
       "32997     eng  closing date for the submission of completed t...\n",
       "32998     xho  nawuphina umntu ofunyenwe enetyala phantsi kwa...\n",
       "32999     sot  mafapha a mang le ona a lokela ho etsa ditlale..."
      ]
     },
     "execution_count": 7,
     "metadata": {},
     "output_type": "execute_result"
    }
   ],
   "source": [
    "train_data.tail()"
   ]
  },
  {
   "cell_type": "code",
   "execution_count": 8,
   "id": "b3c7cbb2",
   "metadata": {},
   "outputs": [
    {
     "data": {
      "text/html": [
       "<div>\n",
       "<style scoped>\n",
       "    .dataframe tbody tr th:only-of-type {\n",
       "        vertical-align: middle;\n",
       "    }\n",
       "\n",
       "    .dataframe tbody tr th {\n",
       "        vertical-align: top;\n",
       "    }\n",
       "\n",
       "    .dataframe thead th {\n",
       "        text-align: right;\n",
       "    }\n",
       "</style>\n",
       "<table border=\"1\" class=\"dataframe\">\n",
       "  <thead>\n",
       "    <tr style=\"text-align: right;\">\n",
       "      <th></th>\n",
       "      <th>index</th>\n",
       "      <th>text</th>\n",
       "    </tr>\n",
       "  </thead>\n",
       "  <tbody>\n",
       "    <tr>\n",
       "      <th>0</th>\n",
       "      <td>1</td>\n",
       "      <td>Mmasepala, fa maemo a a kgethegileng a letlele...</td>\n",
       "    </tr>\n",
       "    <tr>\n",
       "      <th>1</th>\n",
       "      <td>2</td>\n",
       "      <td>Uzakwaziswa ngokufaneleko nakungafuneka eminye...</td>\n",
       "    </tr>\n",
       "    <tr>\n",
       "      <th>2</th>\n",
       "      <td>3</td>\n",
       "      <td>Tshivhumbeo tshi fana na ngano dza vhathu.</td>\n",
       "    </tr>\n",
       "    <tr>\n",
       "      <th>3</th>\n",
       "      <td>4</td>\n",
       "      <td>Kube inja nelikati betingevakala kutsi titsini...</td>\n",
       "    </tr>\n",
       "    <tr>\n",
       "      <th>4</th>\n",
       "      <td>5</td>\n",
       "      <td>Winste op buitelandse valuta.</td>\n",
       "    </tr>\n",
       "  </tbody>\n",
       "</table>\n",
       "</div>"
      ],
      "text/plain": [
       "   index                                               text\n",
       "0      1  Mmasepala, fa maemo a a kgethegileng a letlele...\n",
       "1      2  Uzakwaziswa ngokufaneleko nakungafuneka eminye...\n",
       "2      3         Tshivhumbeo tshi fana na ngano dza vhathu.\n",
       "3      4  Kube inja nelikati betingevakala kutsi titsini...\n",
       "4      5                      Winste op buitelandse valuta."
      ]
     },
     "execution_count": 8,
     "metadata": {},
     "output_type": "execute_result"
    }
   ],
   "source": [
    "test_data.head()"
   ]
  },
  {
   "cell_type": "markdown",
   "id": "5b9d9150",
   "metadata": {},
   "source": [
    "## Checking for null values"
   ]
  },
  {
   "cell_type": "code",
   "execution_count": 9,
   "id": "a8f368fe",
   "metadata": {},
   "outputs": [
    {
     "data": {
      "text/plain": [
       "lang_id    0\n",
       "text       0\n",
       "dtype: int64"
      ]
     },
     "execution_count": 9,
     "metadata": {},
     "output_type": "execute_result"
    }
   ],
   "source": [
    "train_data.isnull().sum()"
   ]
  },
  {
   "cell_type": "code",
   "execution_count": 10,
   "id": "7c2846bb",
   "metadata": {},
   "outputs": [
    {
     "data": {
      "text/plain": [
       "index    0\n",
       "text     0\n",
       "dtype: int64"
      ]
     },
     "execution_count": 10,
     "metadata": {},
     "output_type": "execute_result"
    }
   ],
   "source": [
    "test_data.isnull().sum()"
   ]
  },
  {
   "cell_type": "markdown",
   "id": "5b10ac02",
   "metadata": {},
   "source": [
    "**Observation**\n",
    "\n",
    "There are no null values in both the training and testing dataset."
   ]
  },
  {
   "cell_type": "markdown",
   "id": "e0faf047",
   "metadata": {},
   "source": [
    "## Target Variable Analysis"
   ]
  },
  {
   "cell_type": "code",
   "execution_count": 11,
   "id": "d0e1c385",
   "metadata": {},
   "outputs": [
    {
     "data": {
      "text/plain": [
       "array(['xho', 'eng', 'nso', 'ven', 'tsn', 'nbl', 'zul', 'ssw', 'tso',\n",
       "       'sot', 'afr'], dtype=object)"
      ]
     },
     "execution_count": 11,
     "metadata": {},
     "output_type": "execute_result"
    }
   ],
   "source": [
    "train_data['lang_id'].unique()"
   ]
  },
  {
   "cell_type": "markdown",
   "id": "e80253e5",
   "metadata": {},
   "source": [
    "**Observation**\n",
    "\n",
    "There are 11 unique languages which are written in codes."
   ]
  },
  {
   "cell_type": "code",
   "execution_count": 12,
   "id": "02355b7b",
   "metadata": {},
   "outputs": [
    {
     "name": "stdout",
     "output_type": "stream",
     "text": [
      "<class 'pandas.core.frame.DataFrame'>\n",
      "RangeIndex: 33000 entries, 0 to 32999\n",
      "Data columns (total 2 columns):\n",
      " #   Column   Non-Null Count  Dtype \n",
      "---  ------   --------------  ----- \n",
      " 0   lang_id  33000 non-null  object\n",
      " 1   text     33000 non-null  object\n",
      "dtypes: object(2)\n",
      "memory usage: 515.8+ KB\n"
     ]
    }
   ],
   "source": [
    "train_data.info()"
   ]
  },
  {
   "cell_type": "markdown",
   "id": "023fb455",
   "metadata": {},
   "source": [
    "**Observation**\n",
    "\n",
    "There are only two object datatypes."
   ]
  },
  {
   "cell_type": "markdown",
   "id": "c673c76a",
   "metadata": {},
   "source": [
    "### Distrubution of the Language ID"
   ]
  },
  {
   "cell_type": "code",
   "execution_count": 13,
   "id": "94d9955c",
   "metadata": {},
   "outputs": [
    {
     "data": {
      "text/plain": [
       "xho    3000\n",
       "eng    3000\n",
       "nso    3000\n",
       "ven    3000\n",
       "tsn    3000\n",
       "nbl    3000\n",
       "zul    3000\n",
       "ssw    3000\n",
       "tso    3000\n",
       "sot    3000\n",
       "afr    3000\n",
       "Name: lang_id, dtype: int64"
      ]
     },
     "execution_count": 13,
     "metadata": {},
     "output_type": "execute_result"
    }
   ],
   "source": [
    "train_data['lang_id'].value_counts()"
   ]
  },
  {
   "cell_type": "code",
   "execution_count": 120,
   "id": "f02a18ed",
   "metadata": {},
   "outputs": [
    {
     "data": {
      "image/png": "[encoded data removed]",
      "text/plain": [
       "<Figure size 1080x504 with 1 Axes>"
      ]
     },
     "metadata": {
      "needs_background": "light"
     },
     "output_type": "display_data"
    }
   ],
   "source": [
    "language_count = train_data['lang_id'].value_counts()\n",
    "plt.figure(figsize=(15,7))\n",
    "sns.barplot(language_count.index, language_count.values, alpha=0.9)\n",
    "plt.title('Frequency Distrubition of Language Id')\n",
    "plt.ylabel('Count', fontsize=12)\n",
    "plt.xlabel('Language Id', fontsize=12)\n",
    "plt.show()"
   ]
  },
  {
   "cell_type": "markdown",
   "id": "205de02c",
   "metadata": {},
   "source": [
    "**Observation**\n",
    "\n",
    "There is an equal number of language distrubution, then there will not be any imbalanced data going forward, because durung model training the model will be exposed to all categories of the data."
   ]
  },
  {
   "cell_type": "markdown",
   "id": "819f32cd",
   "metadata": {},
   "source": [
    "## Checking for Emojis in text coloumn"
   ]
  },
  {
   "cell_type": "markdown",
   "id": "8bd3a746",
   "metadata": {},
   "source": [
    "**Used AdvertTools module to extract any emojies from text **\n",
    "The emojis will be unecessary for model building "
   ]
  },
  {
   "cell_type": "code",
   "execution_count": 14,
   "id": "d68b503a",
   "metadata": {},
   "outputs": [
    {
     "data": {
      "text/plain": [
       "dict_keys(['emoji', 'emoji_text', 'emoji_flat', 'emoji_flat_text', 'emoji_counts', 'emoji_freq', 'top_emoji', 'top_emoji_text', 'top_emoji_groups', 'top_emoji_sub_groups', 'overview'])"
      ]
     },
     "execution_count": 14,
     "metadata": {},
     "output_type": "execute_result"
    }
   ],
   "source": [
    "emoji_summary = adv.extract_emoji(train_data['text'])\n",
    "emoji_summary.keys()"
   ]
  },
  {
   "cell_type": "code",
   "execution_count": 15,
   "id": "a7fc2cc7",
   "metadata": {},
   "outputs": [
    {
     "data": {
      "text/plain": [
       "{'num_posts': 33000,\n",
       " 'num_emoji': 17,\n",
       " 'emoji_per_post': 0.0005151515151515151,\n",
       " 'unique_emoji': 2}"
      ]
     },
     "execution_count": 15,
     "metadata": {},
     "output_type": "execute_result"
    }
   ],
   "source": [
    "emoji_summary['overview']"
   ]
  },
  {
   "cell_type": "markdown",
   "id": "35a72aa1",
   "metadata": {},
   "source": [
    "**Observation**\n",
    "\n",
    "There are 17 number of emoji's used and two unique emoji's used."
   ]
  },
  {
   "cell_type": "code",
   "execution_count": 16,
   "id": "47f882b6",
   "metadata": {},
   "outputs": [
    {
     "data": {
      "text/plain": [
       "[('©', 14), ('™', 3)]"
      ]
     },
     "execution_count": 16,
     "metadata": {},
     "output_type": "execute_result"
    }
   ],
   "source": [
    "emoji_summary['top_emoji']"
   ]
  },
  {
   "cell_type": "code",
   "execution_count": 17,
   "id": "23c8707b",
   "metadata": {},
   "outputs": [
    {
     "data": {
      "text/plain": [
       "[('copyright', 14), ('trade mark', 3)]"
      ]
     },
     "execution_count": 17,
     "metadata": {},
     "output_type": "execute_result"
    }
   ],
   "source": [
    "emoji_summary['top_emoji_text']"
   ]
  },
  {
   "cell_type": "markdown",
   "id": "e86592e7",
   "metadata": {},
   "source": [
    "## Pre Processing"
   ]
  },
  {
   "cell_type": "markdown",
   "id": "92703b66",
   "metadata": {},
   "source": [
    "Data Cleaning is to remove nosie from the dataset which may include errors, punctuation marks, duplicates, Url etc in order to create a reliable dataset. This improves the quality of the training data for model building.In this case for Natural Language Processing so that the machine can understand human language."
   ]
  },
  {
   "cell_type": "markdown",
   "id": "a49748d0",
   "metadata": {},
   "source": [
    "The **function** below will remove noise from the dataset."
   ]
  },
  {
   "cell_type": "code",
   "execution_count": 38,
   "id": "6fc68631",
   "metadata": {},
   "outputs": [],
   "source": [
    "def clean_text(text):\n",
    "    text = remove_emojis(text)\n",
    "    text = remove_single_letters(text)\n",
    "    text = re.sub('©*', '',text)\n",
    "    text = text.lower()\n",
    "    text = re.sub('\\[.*?\\]', '', text)\n",
    "    text = re.sub('https?://\\S+|www\\.\\S+', '', text)\n",
    "    text = re.sub('<.*?>+', '', text)\n",
    "    text = re.sub('[%s]' % re.escape(string.punctuation), '', text)\n",
    "    text = re.sub('\\n', '', text)\n",
    "    text = re.sub('\\w*\\d\\w*', '', text)\n",
    "    text = re.sub('[!\"$%&\\'()*+,-./:@;<=>?[\\\\]^_`{|}~]', '', text) \n",
    "    text = text.replace('\\\\\\\\', '')\n",
    "    text = text.replace('\\\\', '')\n",
    "    return text"
   ]
  },
  {
   "cell_type": "code",
   "execution_count": 39,
   "id": "8f05d753",
   "metadata": {},
   "outputs": [],
   "source": [
    "def remove_emojis(text):\n",
    "    words = text.split()\n",
    "    reformed = []\n",
    "    for w in words:\n",
    "        if w != '©' or w != '™':\n",
    "            reformed.append(w)\n",
    "    text = \" \".join(reformed)\n",
    "    return text "
   ]
  },
  {
   "cell_type": "code",
   "execution_count": 40,
   "id": "cddc3fbc",
   "metadata": {},
   "outputs": [],
   "source": [
    "def remove_single_letters(text):\n",
    "    words = text.split()\n",
    "    reformed = []\n",
    "    for w in words:\n",
    "        if len(w) > 1:\n",
    "            reformed.append(w)\n",
    "    text = \" \".join(reformed)\n",
    "    return text "
   ]
  },
  {
   "cell_type": "code",
   "execution_count": 43,
   "id": "a34ec661",
   "metadata": {},
   "outputs": [],
   "source": [
    "train_data['clean_text'] = train_data['text'].apply(lambda text:clean_text(text))\n",
    "test_data['clean_text']= test_data['text'].apply(lambda text:clean_text(text))"
   ]
  },
  {
   "cell_type": "code",
   "execution_count": 44,
   "id": "0a48c8b6",
   "metadata": {},
   "outputs": [
    {
     "data": {
      "text/html": [
       "<div>\n",
       "<style scoped>\n",
       "    .dataframe tbody tr th:only-of-type {\n",
       "        vertical-align: middle;\n",
       "    }\n",
       "\n",
       "    .dataframe tbody tr th {\n",
       "        vertical-align: top;\n",
       "    }\n",
       "\n",
       "    .dataframe thead th {\n",
       "        text-align: right;\n",
       "    }\n",
       "</style>\n",
       "<table border=\"1\" class=\"dataframe\">\n",
       "  <thead>\n",
       "    <tr style=\"text-align: right;\">\n",
       "      <th></th>\n",
       "      <th>lang_id</th>\n",
       "      <th>text</th>\n",
       "      <th>clean_text</th>\n",
       "    </tr>\n",
       "  </thead>\n",
       "  <tbody>\n",
       "    <tr>\n",
       "      <th>0</th>\n",
       "      <td>xho</td>\n",
       "      <td>umgaqo-siseko wenza amalungiselelo kumaziko ax...</td>\n",
       "      <td>umgaqosiseko wenza amalungiselelo kumaziko axh...</td>\n",
       "    </tr>\n",
       "    <tr>\n",
       "      <th>1</th>\n",
       "      <td>xho</td>\n",
       "      <td>i-dha iya kuba nobulumko bokubeka umsebenzi na...</td>\n",
       "      <td>idha iya kuba nobulumko bokubeka umsebenzi nap...</td>\n",
       "    </tr>\n",
       "    <tr>\n",
       "      <th>2</th>\n",
       "      <td>eng</td>\n",
       "      <td>the province of kwazulu-natal department of tr...</td>\n",
       "      <td>the province of kwazulunatal department of tra...</td>\n",
       "    </tr>\n",
       "    <tr>\n",
       "      <th>3</th>\n",
       "      <td>nso</td>\n",
       "      <td>o netefatša gore o ba file dilo ka moka tše le...</td>\n",
       "      <td>netefatša gore ba file dilo ka moka tše le dum...</td>\n",
       "    </tr>\n",
       "    <tr>\n",
       "      <th>4</th>\n",
       "      <td>ven</td>\n",
       "      <td>khomishini ya ndinganyiso ya mbeu yo ewa maana...</td>\n",
       "      <td>khomishini ya ndinganyiso ya mbeu yo ewa maana...</td>\n",
       "    </tr>\n",
       "    <tr>\n",
       "      <th>...</th>\n",
       "      <td>...</td>\n",
       "      <td>...</td>\n",
       "      <td>...</td>\n",
       "    </tr>\n",
       "    <tr>\n",
       "      <th>32995</th>\n",
       "      <td>tsn</td>\n",
       "      <td>popo ya dipolateforomo tse ke go tlisa boetele...</td>\n",
       "      <td>popo ya dipolateforomo tse ke go tlisa boetele...</td>\n",
       "    </tr>\n",
       "    <tr>\n",
       "      <th>32996</th>\n",
       "      <td>sot</td>\n",
       "      <td>modise mosadi na o ntse o sa utlwe hore thaban...</td>\n",
       "      <td>modise mosadi na ntse sa utlwe hore thabang ra...</td>\n",
       "    </tr>\n",
       "    <tr>\n",
       "      <th>32997</th>\n",
       "      <td>eng</td>\n",
       "      <td>closing date for the submission of completed t...</td>\n",
       "      <td>closing date for the submission of completed t...</td>\n",
       "    </tr>\n",
       "    <tr>\n",
       "      <th>32998</th>\n",
       "      <td>xho</td>\n",
       "      <td>nawuphina umntu ofunyenwe enetyala phantsi kwa...</td>\n",
       "      <td>nawuphina umntu ofunyenwe enetyala phantsi kwa...</td>\n",
       "    </tr>\n",
       "    <tr>\n",
       "      <th>32999</th>\n",
       "      <td>sot</td>\n",
       "      <td>mafapha a mang le ona a lokela ho etsa ditlale...</td>\n",
       "      <td>mafapha mang le ona lokela ho etsa ditlaleho t...</td>\n",
       "    </tr>\n",
       "  </tbody>\n",
       "</table>\n",
       "<p>33000 rows × 3 columns</p>\n",
       "</div>"
      ],
      "text/plain": [
       "      lang_id                                               text  \\\n",
       "0         xho  umgaqo-siseko wenza amalungiselelo kumaziko ax...   \n",
       "1         xho  i-dha iya kuba nobulumko bokubeka umsebenzi na...   \n",
       "2         eng  the province of kwazulu-natal department of tr...   \n",
       "3         nso  o netefatša gore o ba file dilo ka moka tše le...   \n",
       "4         ven  khomishini ya ndinganyiso ya mbeu yo ewa maana...   \n",
       "...       ...                                                ...   \n",
       "32995     tsn  popo ya dipolateforomo tse ke go tlisa boetele...   \n",
       "32996     sot  modise mosadi na o ntse o sa utlwe hore thaban...   \n",
       "32997     eng  closing date for the submission of completed t...   \n",
       "32998     xho  nawuphina umntu ofunyenwe enetyala phantsi kwa...   \n",
       "32999     sot  mafapha a mang le ona a lokela ho etsa ditlale...   \n",
       "\n",
       "                                              clean_text  \n",
       "0      umgaqosiseko wenza amalungiselelo kumaziko axh...  \n",
       "1      idha iya kuba nobulumko bokubeka umsebenzi nap...  \n",
       "2      the province of kwazulunatal department of tra...  \n",
       "3      netefatša gore ba file dilo ka moka tše le dum...  \n",
       "4      khomishini ya ndinganyiso ya mbeu yo ewa maana...  \n",
       "...                                                  ...  \n",
       "32995  popo ya dipolateforomo tse ke go tlisa boetele...  \n",
       "32996  modise mosadi na ntse sa utlwe hore thabang ra...  \n",
       "32997  closing date for the submission of completed t...  \n",
       "32998  nawuphina umntu ofunyenwe enetyala phantsi kwa...  \n",
       "32999  mafapha mang le ona lokela ho etsa ditlaleho t...  \n",
       "\n",
       "[33000 rows x 3 columns]"
      ]
     },
     "execution_count": 44,
     "metadata": {},
     "output_type": "execute_result"
    }
   ],
   "source": [
    "train_data"
   ]
  },
  {
   "cell_type": "markdown",
   "id": "8bf4de44",
   "metadata": {},
   "source": [
    "Now let us remove stops words from english text, lemmatize then tokenize."
   ]
  },
  {
   "cell_type": "markdown",
   "id": "72bfa02f",
   "metadata": {},
   "source": [
    "### Tokenize"
   ]
  },
  {
   "cell_type": "code",
   "execution_count": 45,
   "id": "f96022d8",
   "metadata": {},
   "outputs": [],
   "source": [
    "from nltk.tokenize import word_tokenize, TreebankWordTokenizer\n",
    "tokeniser = TreebankWordTokenizer()\n",
    "train_data['tokens'] = train_data['clean_text'].apply(tokeniser.tokenize)\n",
    "test_data['tokens'] = test_data['clean_text'].apply(tokeniser.tokenize)"
   ]
  },
  {
   "cell_type": "markdown",
   "id": "6e059fc7",
   "metadata": {},
   "source": [
    "### Lemmatize"
   ]
  },
  {
   "cell_type": "code",
   "execution_count": 46,
   "id": "f1d6e1b3",
   "metadata": {},
   "outputs": [],
   "source": [
    "#Functions for lemmatize of the words\n",
    "from nltk.stem import WordNetLemmatizer\n",
    "\n",
    "def lemma(words, lemmatizer):\n",
    "    return [lemmatizer.lemmatize(word) for word in words]"
   ]
  },
  {
   "cell_type": "code",
   "execution_count": 47,
   "id": "ff31031f",
   "metadata": {},
   "outputs": [],
   "source": [
    "from nltk.stem import WordNetLemmatizer\n",
    "#nltk.download('wordnet')\n",
    "\n",
    "lemmatizer = WordNetLemmatizer()\n",
    "lemmatizer = WordNetLemmatizer()\n",
    "train_data['lemma'] = train_data['tokens'].apply(lemma, args=(lemmatizer, ))\n",
    "test_data['lemma'] = test_data['tokens'].apply(lemma, args=(lemmatizer, ))\n"
   ]
  },
  {
   "cell_type": "markdown",
   "id": "1a8488b5",
   "metadata": {},
   "source": [
    "## Removal of stop words"
   ]
  },
  {
   "cell_type": "markdown",
   "id": "eaff3b74",
   "metadata": {},
   "source": [
    "By research **nltk** only supports 21 global languages, so far South African language stop words have not been craeted. Therefore only english stopwords will be removed."
   ]
  },
  {
   "cell_type": "code",
   "execution_count": 48,
   "id": "53ea665a",
   "metadata": {},
   "outputs": [],
   "source": [
    "def remove_stop_words(tokens):\n",
    "    return [t for t in tokens if t not in stopwords.words('english')]"
   ]
  },
  {
   "cell_type": "code",
   "execution_count": 49,
   "id": "40719909",
   "metadata": {},
   "outputs": [],
   "source": [
    "#Apply the stop function to dataframe and genrate a new column\n",
    "train_data['no_stop_words'] = train_data['lemma'].apply(remove_stop_words)\n",
    "test_data['no_stop_words'] = test_data['lemma'].apply(remove_stop_words)"
   ]
  },
  {
   "cell_type": "markdown",
   "id": "a4d35b83",
   "metadata": {},
   "source": [
    "<a id=\"five\"></a>\n",
    "## 5. Model Building\n",
    "<a class=\"anchor\" id=\"1.1\"></a>\n",
    "<a href=#cont>Back to Table of Contents</a>\n"
   ]
  },
  {
   "cell_type": "markdown",
   "id": "96549c03",
   "metadata": {},
   "source": [
    "## Model Training"
   ]
  },
  {
   "cell_type": "code",
   "execution_count": 121,
   "id": "fc125dcd",
   "metadata": {},
   "outputs": [],
   "source": [
    "# Dividing Data to Training and Validation Sets\n",
    "from sklearn.model_selection import train_test_split  \n",
    "x = train_data.no_stop_words\n",
    "y = train_data.lang_id.values\n",
    "x = train_data.no_stop_words.astype(str)\n",
    "x_train, x_val, y_train, y_val = train_test_split(x, y, test_size=0.2, random_state = 20) #using a 20% test size\n"
   ]
  },
  {
   "cell_type": "markdown",
   "id": "d658d50c",
   "metadata": {},
   "source": [
    "## Vectorization"
   ]
  },
  {
   "cell_type": "markdown",
   "id": "ec7b8e11",
   "metadata": {},
   "source": [
    "Converting the words into numbers so that the machine will be able to read them."
   ]
  },
  {
   "cell_type": "code",
   "execution_count": 54,
   "id": "b901548a",
   "metadata": {},
   "outputs": [
    {
     "name": "stdout",
     "output_type": "stream",
     "text": [
      "Shape of training data :  (26400, 125967) \n",
      "Shape of validation data :  (6600, 125967)\n"
     ]
    }
   ],
   "source": [
    "from sklearn.feature_extraction.text import CountVectorizer\n",
    "from sklearn.feature_extraction.text import TfidfVectorizer\n",
    "vectorizer = TfidfVectorizer() #instantiating the vectorizer\n",
    "train_vectors = vectorizer.fit_transform(x_train)\n",
    "\n",
    "val_vectors = vectorizer.transform(x_val)\n",
    "print(\"Shape of training data : \",train_vectors.shape, \"\\nShape of validation data : \",val_vectors.shape)"
   ]
  },
  {
   "cell_type": "markdown",
   "id": "2172aeea",
   "metadata": {},
   "source": [
    "### Splitting the dataset into training and testing\n",
    "\n",
    "We will first split our dataset before model building."
   ]
  },
  {
   "cell_type": "code",
   "execution_count": 93,
   "id": "cbad92dc",
   "metadata": {},
   "outputs": [],
   "source": [
    "# Dividing Data to Training and Validation Sets\n",
    "from sklearn.model_selection import train_test_split  \n",
    "x = train_data.no_stop_words\n",
    "y = train_data.lang_id.values\n",
    "x = train_data.no_stop_words.astype(str)\n",
    "X_train, X_test, y_train, y_test = train_test_split(x, y, test_size=0.2, random_state = 1)"
   ]
  },
  {
   "cell_type": "code",
   "execution_count": 94,
   "id": "2e4cd4c3",
   "metadata": {},
   "outputs": [],
   "source": [
    "vect = CountVectorizer(stop_words='english', min_df= .01)\n",
    "X_train = vect.fit_transform(X_train)\n",
    "X_test = vect.transform(X_test)\n"
   ]
  },
  {
   "cell_type": "markdown",
   "id": "1cf96508",
   "metadata": {},
   "source": [
    "Below are the names of the classifiers which the splitted data will be trained on."
   ]
  },
  {
   "cell_type": "code",
   "execution_count": 103,
   "id": "9e788438",
   "metadata": {},
   "outputs": [],
   "source": [
    "names = ['Nearest Neighbors',\n",
    "         'Linear SVM', 'RBF SVM',\n",
    "         'Decision Tree', 'Random Forest',  'AdaBoost', \"Naive Bayes\"]"
   ]
  },
  {
   "cell_type": "code",
   "execution_count": 104,
   "id": "8d45a3f9",
   "metadata": {},
   "outputs": [],
   "source": [
    "classifiers = [ \n",
    "    KNeighborsClassifier(3),\n",
    "    SVC(kernel=\"linear\", C=0.025),\n",
    "    SVC(gamma=2, C=1),\n",
    "    DecisionTreeClassifier(max_depth=5),\n",
    "    RandomForestClassifier(max_depth=5, n_estimators=10, max_features=1),\n",
    "    AdaBoostClassifier(),\n",
    "    MultinomialNB(0.05)\n",
    "]"
   ]
  },
  {
   "cell_type": "code",
   "execution_count": 111,
   "id": "ebf1aa2c",
   "metadata": {},
   "outputs": [
    {
     "name": "stdout",
     "output_type": "stream",
     "text": [
      "Fitting Nearest Neighbors model...\n",
      "... predicting\n",
      "... scoring\n",
      "Fitting Linear SVM model...\n",
      "... predicting\n",
      "... scoring\n",
      "Fitting RBF SVM model...\n",
      "... predicting\n",
      "... scoring\n",
      "Fitting Decision Tree model...\n",
      "... predicting\n",
      "... scoring\n",
      "Fitting Random Forest model...\n",
      "... predicting\n",
      "... scoring\n",
      "Fitting AdaBoost model...\n",
      "... predicting\n",
      "... scoring\n",
      "Fitting Naive Bayes model...\n",
      "... predicting\n",
      "... scoring\n",
      "... All done!\n"
     ]
    }
   ],
   "source": [
    "results = []\n",
    "\n",
    "models = {}\n",
    "confusion = {}\n",
    "class_report = {}\n",
    "\n",
    "\n",
    "for name, clf in zip(names, classifiers):    \n",
    "    print ('Fitting {:s} model...'.format(name))\n",
    "    run_time = %timeit -q -o clf.fit(X_train, y_train)\n",
    "    \n",
    "    print ('... predicting')\n",
    "    y_pred = clf.predict(X_train)   \n",
    "    y_pred_test = clf.predict(X_test)\n",
    "    \n",
    "    print ('... scoring')\n",
    "    accuracy  = metrics.accuracy_score(y_train, y_pred)\n",
    "    precision = metrics.precision_score(y_train, y_pred,average='weighted')\n",
    "    recall    = metrics.recall_score(y_train, y_pred,average='weighted')\n",
    "    \n",
    "    f1        = metrics.f1_score(y_train, y_pred,average='weighted')    \n",
    "    f1_test   = metrics.f1_score(y_test, y_pred_test,average='weighted')    \n",
    "    \n",
    "    # Save the results to dictionaries\n",
    "    models[name] = clf    \n",
    "    confusion[name] = metrics.confusion_matrix(y_train, y_pred)\n",
    "    class_report[name] = metrics.classification_report(y_train, y_pred)\n",
    "    \n",
    "    results.append([name, accuracy, precision, recall, f1, f1_test, run_time.best])\n",
    "\n",
    "    \n",
    "results = pd.DataFrame(results, columns=['Classifier', 'Accuracy', 'Precision', 'Recall', 'F1 Train', 'F1 Test', 'Train Time'])\n",
    "results.set_index('Classifier', inplace= True)\n",
    "\n",
    "print ('... All done!')"
   ]
  },
  {
   "cell_type": "code",
   "execution_count": 112,
   "id": "d052471e",
   "metadata": {},
   "outputs": [
    {
     "data": {
      "text/html": [
       "<div>\n",
       "<style scoped>\n",
       "    .dataframe tbody tr th:only-of-type {\n",
       "        vertical-align: middle;\n",
       "    }\n",
       "\n",
       "    .dataframe tbody tr th {\n",
       "        vertical-align: top;\n",
       "    }\n",
       "\n",
       "    .dataframe thead th {\n",
       "        text-align: right;\n",
       "    }\n",
       "</style>\n",
       "<table border=\"1\" class=\"dataframe\">\n",
       "  <thead>\n",
       "    <tr style=\"text-align: right;\">\n",
       "      <th></th>\n",
       "      <th>Accuracy</th>\n",
       "      <th>Precision</th>\n",
       "      <th>Recall</th>\n",
       "      <th>F1 Train</th>\n",
       "      <th>F1 Test</th>\n",
       "      <th>Train Time</th>\n",
       "    </tr>\n",
       "    <tr>\n",
       "      <th>Classifier</th>\n",
       "      <th></th>\n",
       "      <th></th>\n",
       "      <th></th>\n",
       "      <th></th>\n",
       "      <th></th>\n",
       "      <th></th>\n",
       "    </tr>\n",
       "  </thead>\n",
       "  <tbody>\n",
       "    <tr>\n",
       "      <th>RBF SVM</th>\n",
       "      <td>0.940265</td>\n",
       "      <td>0.944819</td>\n",
       "      <td>0.940265</td>\n",
       "      <td>0.940498</td>\n",
       "      <td>0.452374</td>\n",
       "      <td>78.065662</td>\n",
       "    </tr>\n",
       "    <tr>\n",
       "      <th>Naive Bayes</th>\n",
       "      <td>0.909053</td>\n",
       "      <td>0.911438</td>\n",
       "      <td>0.909053</td>\n",
       "      <td>0.907614</td>\n",
       "      <td>0.901027</td>\n",
       "      <td>0.053567</td>\n",
       "    </tr>\n",
       "    <tr>\n",
       "      <th>Linear SVM</th>\n",
       "      <td>0.897348</td>\n",
       "      <td>0.912032</td>\n",
       "      <td>0.897348</td>\n",
       "      <td>0.898075</td>\n",
       "      <td>0.891406</td>\n",
       "      <td>3.153578</td>\n",
       "    </tr>\n",
       "    <tr>\n",
       "      <th>Nearest Neighbors</th>\n",
       "      <td>0.849583</td>\n",
       "      <td>0.884916</td>\n",
       "      <td>0.849583</td>\n",
       "      <td>0.849789</td>\n",
       "      <td>0.815920</td>\n",
       "      <td>0.027062</td>\n",
       "    </tr>\n",
       "    <tr>\n",
       "      <th>Random Forest</th>\n",
       "      <td>0.630455</td>\n",
       "      <td>0.778231</td>\n",
       "      <td>0.630455</td>\n",
       "      <td>0.630679</td>\n",
       "      <td>0.621804</td>\n",
       "      <td>0.066762</td>\n",
       "    </tr>\n",
       "    <tr>\n",
       "      <th>Decision Tree</th>\n",
       "      <td>0.531894</td>\n",
       "      <td>0.736797</td>\n",
       "      <td>0.531894</td>\n",
       "      <td>0.484912</td>\n",
       "      <td>0.470152</td>\n",
       "      <td>0.046994</td>\n",
       "    </tr>\n",
       "    <tr>\n",
       "      <th>AdaBoost</th>\n",
       "      <td>0.535000</td>\n",
       "      <td>0.602367</td>\n",
       "      <td>0.535000</td>\n",
       "      <td>0.478536</td>\n",
       "      <td>0.473267</td>\n",
       "      <td>2.090280</td>\n",
       "    </tr>\n",
       "  </tbody>\n",
       "</table>\n",
       "</div>"
      ],
      "text/plain": [
       "                   Accuracy  Precision    Recall  F1 Train   F1 Test  \\\n",
       "Classifier                                                             \n",
       "RBF SVM            0.940265   0.944819  0.940265  0.940498  0.452374   \n",
       "Naive Bayes        0.909053   0.911438  0.909053  0.907614  0.901027   \n",
       "Linear SVM         0.897348   0.912032  0.897348  0.898075  0.891406   \n",
       "Nearest Neighbors  0.849583   0.884916  0.849583  0.849789  0.815920   \n",
       "Random Forest      0.630455   0.778231  0.630455  0.630679  0.621804   \n",
       "Decision Tree      0.531894   0.736797  0.531894  0.484912  0.470152   \n",
       "AdaBoost           0.535000   0.602367  0.535000  0.478536  0.473267   \n",
       "\n",
       "                   Train Time  \n",
       "Classifier                     \n",
       "RBF SVM             78.065662  \n",
       "Naive Bayes          0.053567  \n",
       "Linear SVM           3.153578  \n",
       "Nearest Neighbors    0.027062  \n",
       "Random Forest        0.066762  \n",
       "Decision Tree        0.046994  \n",
       "AdaBoost             2.090280  "
      ]
     },
     "execution_count": 112,
     "metadata": {},
     "output_type": "execute_result"
    }
   ],
   "source": [
    "results.sort_values('F1 Train', ascending=False)"
   ]
  },
  {
   "cell_type": "markdown",
   "id": "f8050300",
   "metadata": {},
   "source": [
    "### Observation from model performances"
   ]
  },
  {
   "cell_type": "markdown",
   "id": "0a5920ff",
   "metadata": {},
   "source": [
    "From the table above which iilustrated the results for all the classifiers, we can that the AdaBoost performed the worst and the Naive Bayes yas the highest accuracy score. Therefore the method above will be used for the final submission."
   ]
  },
  {
   "cell_type": "markdown",
   "id": "884b8893",
   "metadata": {},
   "source": [
    "### MultinomialNB Model"
   ]
  },
  {
   "cell_type": "code",
   "execution_count": 74,
   "id": "55ac8317",
   "metadata": {},
   "outputs": [
    {
     "name": "stderr",
     "output_type": "stream",
     "text": [
      "C:\\Users\\makga\\anaconda3\\lib\\site-packages\\sklearn\\utils\\validation.py:70: FutureWarning: Pass alpha=0.05 as keyword args. From version 1.0 (renaming of 0.25) passing these as positional arguments will result in an error\n",
      "  warnings.warn(f\"Pass {args_msg} as keyword args. From version \"\n"
     ]
    },
    {
     "data": {
      "text/plain": [
       "MultinomialNB(alpha=0.05)"
      ]
     },
     "execution_count": 74,
     "metadata": {},
     "output_type": "execute_result"
    }
   ],
   "source": [
    "from sklearn.naive_bayes import MultinomialNB\n",
    "naive_bayes = MultinomialNB(0.05) #setting our alpha parameter as 0.05\n",
    "# Fit the model \n",
    "naive_bayes.fit(train_vectors, y_train)"
   ]
  },
  {
   "cell_type": "code",
   "execution_count": 68,
   "id": "a5c176a8",
   "metadata": {},
   "outputs": [],
   "source": [
    "x = test_data.no_stop_words.astype(str)\n",
    "test_vectors = vectorizer.transform(test_data.no_stop_words.astype(str))"
   ]
  },
  {
   "cell_type": "code",
   "execution_count": 125,
   "id": "cc90796e",
   "metadata": {},
   "outputs": [
    {
     "name": "stdout",
     "output_type": "stream",
     "text": [
      "\n",
      "Let us see the peformance of our model by the F1 test.\n"
     ]
    }
   ],
   "source": [
    "print(\"\\nLet us see the peformance of our model by the F1 test.\")\n",
    "from sklearn.metrics import classification_report, confusion_matrix, accuracy_score\n",
    "predicted = naive_bayes.predict(test_vectors)\n"
   ]
  },
  {
   "cell_type": "code",
   "execution_count": 126,
   "id": "c7a89083",
   "metadata": {},
   "outputs": [
    {
     "data": {
      "text/plain": [
       "<AxesSubplot:xlabel='Classifier'>"
      ]
     },
     "execution_count": 126,
     "metadata": {},
     "output_type": "execute_result"
    },
    {
     "data": {
      "image/png": "[encoded data removed]",
      "text/plain": [
       "<Figure size 720x360 with 2 Axes>"
      ]
     },
     "metadata": {
      "needs_background": "light"
     },
     "output_type": "display_data"
    }
   ],
   "source": [
    "fig, ax = plt.subplots(1, 2, figsize=(10, 5))\n",
    "results.sort_values('F1 Train', ascending=False, inplace=True)\n",
    "results.plot(y=['F1 Test'], kind='bar', ax=ax[0], xlim=[0,1.1], ylim=[0.85,0.92])\n",
    "results.plot(y='Train Time', kind='bar', ax=ax[1])"
   ]
  },
  {
   "cell_type": "code",
   "execution_count": 71,
   "id": "2971e1f2",
   "metadata": {},
   "outputs": [
    {
     "name": "stdout",
     "output_type": "stream",
     "text": [
      "Results : \n",
      "\n",
      "     index lang_id\n",
      "0        1     afr\n",
      "1        2     tsn\n",
      "2        3     tso\n",
      "3        4     afr\n",
      "4        5     eng\n",
      "...    ...     ...\n",
      "5677  5678     ssw\n",
      "5678  5679     ven\n",
      "5679  5680     nbl\n",
      "5680  5681     ssw\n",
      "5681  5682     xho\n",
      "\n",
      "[5682 rows x 2 columns]\n",
      "--------------------------------------------------\n",
      "Analysis on the test dataset.. \n",
      "\n"
     ]
    }
   ],
   "source": [
    "print(\"Results : \\n\")\n",
    "results = pd.DataFrame({'index' : test_data['index'].astype(str), 'lang_id' : predicted}, \n",
    "                       columns = ['index', 'lang_id'])\n",
    "print(results)\n",
    "results.to_csv(\"Naive_model2.csv\", sep= \",\", index = False)\n",
    "print(\"-\" * 50)\n",
    "\n",
    "print(\"Analysis on the test dataset.. \\n\")\n",
    "d = results['lang_id'].value_counts(normalize = True) * 100"
   ]
  },
  {
   "cell_type": "markdown",
   "id": "b75a8628",
   "metadata": {},
   "source": [
    "<a id=\"six\"></a>\n",
    "## 6. Submission\n",
    "<a class=\"anchor\" id=\"1.1\"></a>\n",
    "<a href=#cont>Back to Table of Contents</a>\n"
   ]
  },
  {
   "cell_type": "markdown",
   "id": "80d33cd9",
   "metadata": {},
   "source": [
    "## Save model into pickle"
   ]
  },
  {
   "cell_type": "code",
   "execution_count": 137,
   "id": "80515dfd",
   "metadata": {},
   "outputs": [],
   "source": [
    "import pickle\n",
    "\n",
    "model_save_path = 'naive_bayes3.pkl'\n",
    "\n",
    "with open(model_save_path, 'wb') as file:\n",
    "    pickle.dump(naive_bayes,file)"
   ]
  },
  {
   "cell_type": "code",
   "execution_count": 138,
   "id": "c2daf799",
   "metadata": {},
   "outputs": [],
   "source": [
    "model_load_path = 'naive_bayes3.pkl'\n",
    "\n",
    "with open(model_load_path, 'rb') as file:\n",
    "    unpickled_model = pickle.load(file)"
   ]
  },
  {
   "cell_type": "code",
   "execution_count": 140,
   "id": "a19accc2",
   "metadata": {},
   "outputs": [],
   "source": [
    "y_pred = unpickled_model.predict(test_vectors)"
   ]
  },
  {
   "cell_type": "markdown",
   "id": "d6acd9fe",
   "metadata": {},
   "source": [
    "### What to improve on :"
   ]
  },
  {
   "cell_type": "markdown",
   "id": "02d4f898",
   "metadata": {},
   "source": [
    "Use Stacking which is an ensemble machine learning algorithm.\n",
    "It uses a meta-learning algorithm to learn how to best combine the predictions from two or more base machine learning algorithms."
   ]
  },
  {
   "cell_type": "markdown",
   "id": "7891f13e",
   "metadata": {},
   "source": [
    "## References "
   ]
  },
  {
   "cell_type": "markdown",
   "id": "b2837fa7",
   "metadata": {},
   "source": [
    " * For unicodes emojies https://apps.timwhitlock.info/emoji/tables/unicode"
   ]
  },
  {
   "cell_type": "markdown",
   "id": "aa86092e",
   "metadata": {},
   "source": [
    "* Stop language words code https://en.wikipedia.org/wiki/List_of_ISO_639-1_codes"
   ]
  }
 ],
 "metadata": {
  "kernelspec": {
   "display_name": "Python 3 (ipykernel)",
   "language": "python",
   "name": "python3"
  },
  "language_info": {
   "codemirror_mode": {
    "name": "ipython",
    "version": 3
   },
   "file_extension": ".py",
   "mimetype": "text/x-python",
   "name": "python",
   "nbconvert_exporter": "python",
   "pygments_lexer": "ipython3",
   "version": "3.9.7"
  }
 },
 "nbformat": 4,
 "nbformat_minor": 5
}
